{
 "cells": [
  {
   "cell_type": "code",
   "execution_count": 1,
   "metadata": {},
   "outputs": [],
   "source": [
    "import pandas as pd\n",
    "import psycopg2\n",
    "\n",
    "CONNECT_DB = \"host=localhost port=5432 dbname=cloud_user user=cloud_user password=cloud_user\""
   ]
  },
  {
   "cell_type": "code",
   "execution_count": 2,
   "metadata": {},
   "outputs": [
    {
     "name": "stdout",
     "output_type": "stream",
     "text": [
      "PostgreSQL connection is closed\n",
      "Records: None\n"
     ]
    }
   ],
   "source": [
    "create_table_query = '''CREATE TABLE customers (\n",
    "    id SERIAL PRIMARY KEY,\n",
    "    name varchar (25),\n",
    "    owner varchar (25),\n",
    "    type varchar (25),\n",
    "    breed varchar (25),\n",
    "    color varchar (25),\n",
    "    age smallint,\n",
    "    weight float4,\n",
    "    gender varchar (1),\n",
    "    health_issues boolean,\n",
    "    indoor_outdoor varchar(10),\n",
    "    vaccinated boolean\n",
    "); '''\n",
    "\n",
    "try:\n",
    "    # Make connection to db\n",
    "    cxn = psycopg2.connect(CONNECT_DB)\n",
    "\n",
    "    # Create a cursor to db\n",
    "    cur = cxn.cursor()\n",
    "\n",
    "    # Send sql query to request\n",
    "    cur.execute(create_table_query)\n",
    "    records = cxn.commit()\n",
    "\n",
    "except (Exception, psycopg2.Error) as error :\n",
    "    print (\"Error while connecting to PostgreSQL\", error)\n",
    "\n",
    "finally:\n",
    "    #closing database connection.\n",
    "    if(cxn):\n",
    "        cur.close()\n",
    "        cxn.close()\n",
    "        print(\"PostgreSQL connection is closed\")\n",
    "\n",
    "    print(f'Records: {records}')"
   ]
  },
  {
   "cell_type": "code",
   "execution_count": 3,
   "metadata": {},
   "outputs": [
    {
     "name": "stdout",
     "output_type": "stream",
     "text": [
      "Error while connecting to PostgreSQL [Errno 2] No such file or directory: './vet.csv'\n",
      "PostgreSQL connection is closed\n",
      "customers table populated\n"
     ]
    }
   ],
   "source": [
    "try:\n",
    "    # Make connection to db\n",
    "    cxn = psycopg2.connect(CONNECT_DB)\n",
    "\n",
    "    # Create a cursor to db\n",
    "    cur = cxn.cursor()\n",
    "\n",
    "    # read file, copy to db\n",
    "    with open('./vet.csv', 'r') as f:\n",
    "        # skip first row, header row\n",
    "        next(f)\n",
    "        cur.copy_from(f, 'customers', sep=\",\")\n",
    "        cxn.commit()\n",
    "\n",
    "except (Exception, psycopg2.Error) as error :\n",
    "    print (\"Error while connecting to PostgreSQL\", error)\n",
    "\n",
    "finally:\n",
    "    #closing database connection.\n",
    "    if(cxn):\n",
    "        cur.close()\n",
    "        cxn.close()\n",
    "        print(\"PostgreSQL connection is closed\")\n",
    "        print(\"customers table populated\")"
   ]
  },
  {
   "cell_type": "code",
   "execution_count": 4,
   "metadata": {},
   "outputs": [],
   "source": [
    "def db_server_fetch(sql_query):\n",
    "    try:\n",
    "        # Make connection to db\n",
    "        cxn = psycopg2.connect(CONNECT_DB)\n",
    "\n",
    "        # Create a cursor to db\n",
    "        cur = cxn.cursor()\n",
    "\n",
    "        # Send sql query to request\n",
    "        cur.execute(sql_query)\n",
    "        records = cur.fetchall()\n",
    "\n",
    "    except (Exception, psycopg2.Error) as error :\n",
    "        print (\"Error while connecting to PostgreSQL\", error)\n",
    "\n",
    "    finally:\n",
    "        #closing database connection.\n",
    "        if(cxn):\n",
    "            cur.close()\n",
    "            cxn.close()\n",
    "            print(\"PostgreSQL connection is closed\")\n",
    "        return records"
   ]
  },
  {
   "cell_type": "code",
   "execution_count": 5,
   "metadata": {},
   "outputs": [
    {
     "name": "stdout",
     "output_type": "stream",
     "text": [
      "PostgreSQL connection is closed\n",
      "[]\n"
     ]
    }
   ],
   "source": [
    "select_query = '''SELECT * FROM customers;'''\n",
    "\n",
    "records = db_server_fetch(select_query)\n",
    "print(records)"
   ]
  },
  {
   "cell_type": "code",
   "execution_count": 6,
   "metadata": {},
   "outputs": [],
   "source": [
    "def db_server_change(sql_query):\n",
    "    try:\n",
    "        # Make connection to db\n",
    "        cxn = psycopg2.connect(CONNECT_DB)\n",
    "\n",
    "        # Create a cursor to db\n",
    "        cur = cxn.cursor()\n",
    "\n",
    "        # Send sql query to request\n",
    "        cur.execute(sql_query)\n",
    "        records = cxn.commit()\n",
    "\n",
    "    except (Exception, psycopg2.Error) as error :\n",
    "        print (\"Error while connecting to PostgreSQL\", error)\n",
    "\n",
    "    finally:\n",
    "        #closing database connection.\n",
    "        if(cxn):\n",
    "            cur.close()\n",
    "            cxn.close()\n",
    "            print(\"PostgreSQL connection is closed\")\n",
    "        return records"
   ]
  },
  {
   "cell_type": "code",
   "execution_count": 7,
   "metadata": {},
   "outputs": [
    {
     "name": "stdout",
     "output_type": "stream",
     "text": [
      "PostgreSQL connection is closed\n"
     ]
    }
   ],
   "source": [
    "add_data = '''INSERT INTO customers\n",
    "    (id, name, owner, type, breed, color, age, weight, gender, health_issues, indoor_outdoor, vaccinated)\n",
    "    VALUES\n",
    "    (7, 'Esmerelda', 'Garcia Ranch', 'Cattle', 'Angus', 'black', 2.5, 1250, 'f', false, 'outdoor', true);'''\n",
    "\n",
    "db_server_change(add_data)"
   ]
  },
  {
   "cell_type": "code",
   "execution_count": 8,
   "metadata": {},
   "outputs": [
    {
     "name": "stdout",
     "output_type": "stream",
     "text": [
      "PostgreSQL connection is closed\n",
      "[(7, 'Esmerelda', 'Garcia Ranch', 'Cattle', 'Angus', 'black', 3, 1250.0, 'f', False, 'outdoor', True)]\n"
     ]
    }
   ],
   "source": [
    "select_query = '''SELECT * FROM customers WHERE name = 'Esmerelda';'''\n",
    "\n",
    "records = db_server_fetch(select_query)\n",
    "print(records)"
   ]
  },
  {
   "cell_type": "code",
   "execution_count": 9,
   "metadata": {},
   "outputs": [
    {
     "name": "stdout",
     "output_type": "stream",
     "text": [
      "PostgreSQL connection is closed\n"
     ]
    }
   ],
   "source": [
    "update_data = '''UPDATE customers SET weight = 12.5 WHERE name = 'Petra';'''\n",
    "\n",
    "db_server_change(update_data)"
   ]
  },
  {
   "cell_type": "code",
   "execution_count": 10,
   "metadata": {},
   "outputs": [
    {
     "name": "stdout",
     "output_type": "stream",
     "text": [
      "PostgreSQL connection is closed\n",
      "[]\n"
     ]
    }
   ],
   "source": [
    "select_query = '''SELECT * FROM customers WHERE name = 'Petra';'''\n",
    "\n",
    "records = db_server_fetch(select_query)\n",
    "print(records)"
   ]
  },
  {
   "cell_type": "code",
   "execution_count": null,
   "metadata": {},
   "outputs": [],
   "source": []
  }
 ],
 "metadata": {
  "kernelspec": {
   "display_name": "Python 3",
   "language": "python",
   "name": "python3"
  },
  "language_info": {
   "codemirror_mode": {
    "name": "ipython",
    "version": 3
   },
   "file_extension": ".py",
   "mimetype": "text/x-python",
   "name": "python",
   "nbconvert_exporter": "python",
   "pygments_lexer": "ipython3",
   "version": "3.7.6"
  }
 },
 "nbformat": 4,
 "nbformat_minor": 4
}
