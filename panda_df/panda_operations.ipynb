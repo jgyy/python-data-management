{
 "cells": [
  {
   "cell_type": "code",
   "execution_count": 2,
   "metadata": {},
   "outputs": [],
   "source": [
    "import pandas as pd\n",
    "restaurant_sales_data = pd.read_csv(\"./tips_csv.txt\", header=0)"
   ]
  },
  {
   "cell_type": "code",
   "execution_count": 3,
   "metadata": {},
   "outputs": [
    {
     "data": {
      "text/html": [
       "<div>\n",
       "<style scoped>\n",
       "    .dataframe tbody tr th:only-of-type {\n",
       "        vertical-align: middle;\n",
       "    }\n",
       "\n",
       "    .dataframe tbody tr th {\n",
       "        vertical-align: top;\n",
       "    }\n",
       "\n",
       "    .dataframe thead th {\n",
       "        text-align: right;\n",
       "    }\n",
       "</style>\n",
       "<table border=\"1\" class=\"dataframe\">\n",
       "  <thead>\n",
       "    <tr style=\"text-align: right;\">\n",
       "      <th></th>\n",
       "      <th>weekday</th>\n",
       "      <th>meal_type</th>\n",
       "      <th>wait_staff</th>\n",
       "      <th>party_size</th>\n",
       "      <th>meal_total</th>\n",
       "      <th>tip</th>\n",
       "    </tr>\n",
       "  </thead>\n",
       "  <tbody>\n",
       "    <tr>\n",
       "      <th>0</th>\n",
       "      <td>Saturday</td>\n",
       "      <td>Dinner</td>\n",
       "      <td>Marcia</td>\n",
       "      <td>2</td>\n",
       "      <td>100.64</td>\n",
       "      <td>16.23</td>\n",
       "    </tr>\n",
       "    <tr>\n",
       "      <th>1</th>\n",
       "      <td>Friday</td>\n",
       "      <td>Dinner</td>\n",
       "      <td>Marcia</td>\n",
       "      <td>2</td>\n",
       "      <td>109.84</td>\n",
       "      <td>5.99</td>\n",
       "    </tr>\n",
       "    <tr>\n",
       "      <th>2</th>\n",
       "      <td>Friday</td>\n",
       "      <td>Lunch</td>\n",
       "      <td>Jan</td>\n",
       "      <td>4</td>\n",
       "      <td>90.50</td>\n",
       "      <td>22.04</td>\n",
       "    </tr>\n",
       "    <tr>\n",
       "      <th>3</th>\n",
       "      <td>Monday</td>\n",
       "      <td>Dinner</td>\n",
       "      <td>Marcia</td>\n",
       "      <td>1</td>\n",
       "      <td>60.01</td>\n",
       "      <td>8.77</td>\n",
       "    </tr>\n",
       "    <tr>\n",
       "      <th>4</th>\n",
       "      <td>Monday</td>\n",
       "      <td>Breakfast</td>\n",
       "      <td>Jan</td>\n",
       "      <td>1</td>\n",
       "      <td>10.88</td>\n",
       "      <td>1.68</td>\n",
       "    </tr>\n",
       "  </tbody>\n",
       "</table>\n",
       "</div>"
      ],
      "text/plain": [
       "    weekday  meal_type wait_staff  party_size  meal_total    tip\n",
       "0  Saturday     Dinner     Marcia           2      100.64  16.23\n",
       "1    Friday     Dinner     Marcia           2      109.84   5.99\n",
       "2    Friday      Lunch        Jan           4       90.50  22.04\n",
       "3    Monday     Dinner     Marcia           1       60.01   8.77\n",
       "4    Monday  Breakfast        Jan           1       10.88   1.68"
      ]
     },
     "execution_count": 3,
     "metadata": {},
     "output_type": "execute_result"
    }
   ],
   "source": [
    "restaurant_sales_data.head()"
   ]
  },
  {
   "cell_type": "code",
   "execution_count": 4,
   "metadata": {},
   "outputs": [
    {
     "data": {
      "text/html": [
       "<div>\n",
       "<style scoped>\n",
       "    .dataframe tbody tr th:only-of-type {\n",
       "        vertical-align: middle;\n",
       "    }\n",
       "\n",
       "    .dataframe tbody tr th {\n",
       "        vertical-align: top;\n",
       "    }\n",
       "\n",
       "    .dataframe thead th {\n",
       "        text-align: right;\n",
       "    }\n",
       "</style>\n",
       "<table border=\"1\" class=\"dataframe\">\n",
       "  <thead>\n",
       "    <tr style=\"text-align: right;\">\n",
       "      <th></th>\n",
       "      <th>party_size</th>\n",
       "      <th>meal_total</th>\n",
       "      <th>tip</th>\n",
       "    </tr>\n",
       "  </thead>\n",
       "  <tbody>\n",
       "    <tr>\n",
       "      <th>count</th>\n",
       "      <td>500.000000</td>\n",
       "      <td>500.000000</td>\n",
       "      <td>500.00000</td>\n",
       "    </tr>\n",
       "    <tr>\n",
       "      <th>mean</th>\n",
       "      <td>2.604000</td>\n",
       "      <td>113.955200</td>\n",
       "      <td>17.29252</td>\n",
       "    </tr>\n",
       "    <tr>\n",
       "      <th>std</th>\n",
       "      <td>1.168724</td>\n",
       "      <td>78.649134</td>\n",
       "      <td>14.29027</td>\n",
       "    </tr>\n",
       "    <tr>\n",
       "      <th>min</th>\n",
       "      <td>1.000000</td>\n",
       "      <td>4.750000</td>\n",
       "      <td>0.36000</td>\n",
       "    </tr>\n",
       "    <tr>\n",
       "      <th>25%</th>\n",
       "      <td>2.000000</td>\n",
       "      <td>47.072500</td>\n",
       "      <td>6.27000</td>\n",
       "    </tr>\n",
       "    <tr>\n",
       "      <th>50%</th>\n",
       "      <td>2.000000</td>\n",
       "      <td>103.645000</td>\n",
       "      <td>13.12000</td>\n",
       "    </tr>\n",
       "    <tr>\n",
       "      <th>75%</th>\n",
       "      <td>4.000000</td>\n",
       "      <td>181.982500</td>\n",
       "      <td>24.33750</td>\n",
       "    </tr>\n",
       "    <tr>\n",
       "      <th>max</th>\n",
       "      <td>4.000000</td>\n",
       "      <td>271.370000</td>\n",
       "      <td>63.31000</td>\n",
       "    </tr>\n",
       "  </tbody>\n",
       "</table>\n",
       "</div>"
      ],
      "text/plain": [
       "       party_size  meal_total        tip\n",
       "count  500.000000  500.000000  500.00000\n",
       "mean     2.604000  113.955200   17.29252\n",
       "std      1.168724   78.649134   14.29027\n",
       "min      1.000000    4.750000    0.36000\n",
       "25%      2.000000   47.072500    6.27000\n",
       "50%      2.000000  103.645000   13.12000\n",
       "75%      4.000000  181.982500   24.33750\n",
       "max      4.000000  271.370000   63.31000"
      ]
     },
     "execution_count": 4,
     "metadata": {},
     "output_type": "execute_result"
    }
   ],
   "source": [
    "restaurant_sales_data.describe()"
   ]
  },
  {
   "cell_type": "code",
   "execution_count": 5,
   "metadata": {},
   "outputs": [],
   "source": [
    "percent_tip = pd.Series(restaurant_sales_data['tip']/restaurant_sales_data['meal_total'],name='tip_percent')"
   ]
  },
  {
   "cell_type": "code",
   "execution_count": 6,
   "metadata": {},
   "outputs": [],
   "source": [
    "rsd_per_tips = pd.concat([restaurant_sales_data, percent_tip], axis=1)"
   ]
  },
  {
   "cell_type": "code",
   "execution_count": 7,
   "metadata": {},
   "outputs": [
    {
     "data": {
      "text/html": [
       "<div>\n",
       "<style scoped>\n",
       "    .dataframe tbody tr th:only-of-type {\n",
       "        vertical-align: middle;\n",
       "    }\n",
       "\n",
       "    .dataframe tbody tr th {\n",
       "        vertical-align: top;\n",
       "    }\n",
       "\n",
       "    .dataframe thead th {\n",
       "        text-align: right;\n",
       "    }\n",
       "</style>\n",
       "<table border=\"1\" class=\"dataframe\">\n",
       "  <thead>\n",
       "    <tr style=\"text-align: right;\">\n",
       "      <th></th>\n",
       "      <th>weekday</th>\n",
       "      <th>meal_type</th>\n",
       "      <th>wait_staff</th>\n",
       "      <th>party_size</th>\n",
       "      <th>meal_total</th>\n",
       "      <th>tip</th>\n",
       "      <th>tip_percent</th>\n",
       "    </tr>\n",
       "  </thead>\n",
       "  <tbody>\n",
       "    <tr>\n",
       "      <th>0</th>\n",
       "      <td>Saturday</td>\n",
       "      <td>Dinner</td>\n",
       "      <td>Marcia</td>\n",
       "      <td>2</td>\n",
       "      <td>100.64</td>\n",
       "      <td>16.23</td>\n",
       "      <td>0.161268</td>\n",
       "    </tr>\n",
       "    <tr>\n",
       "      <th>1</th>\n",
       "      <td>Friday</td>\n",
       "      <td>Dinner</td>\n",
       "      <td>Marcia</td>\n",
       "      <td>2</td>\n",
       "      <td>109.84</td>\n",
       "      <td>5.99</td>\n",
       "      <td>0.054534</td>\n",
       "    </tr>\n",
       "    <tr>\n",
       "      <th>2</th>\n",
       "      <td>Friday</td>\n",
       "      <td>Lunch</td>\n",
       "      <td>Jan</td>\n",
       "      <td>4</td>\n",
       "      <td>90.50</td>\n",
       "      <td>22.04</td>\n",
       "      <td>0.243536</td>\n",
       "    </tr>\n",
       "    <tr>\n",
       "      <th>3</th>\n",
       "      <td>Monday</td>\n",
       "      <td>Dinner</td>\n",
       "      <td>Marcia</td>\n",
       "      <td>1</td>\n",
       "      <td>60.01</td>\n",
       "      <td>8.77</td>\n",
       "      <td>0.146142</td>\n",
       "    </tr>\n",
       "    <tr>\n",
       "      <th>4</th>\n",
       "      <td>Monday</td>\n",
       "      <td>Breakfast</td>\n",
       "      <td>Jan</td>\n",
       "      <td>1</td>\n",
       "      <td>10.88</td>\n",
       "      <td>1.68</td>\n",
       "      <td>0.154412</td>\n",
       "    </tr>\n",
       "  </tbody>\n",
       "</table>\n",
       "</div>"
      ],
      "text/plain": [
       "    weekday  meal_type wait_staff  party_size  meal_total    tip  tip_percent\n",
       "0  Saturday     Dinner     Marcia           2      100.64  16.23     0.161268\n",
       "1    Friday     Dinner     Marcia           2      109.84   5.99     0.054534\n",
       "2    Friday      Lunch        Jan           4       90.50  22.04     0.243536\n",
       "3    Monday     Dinner     Marcia           1       60.01   8.77     0.146142\n",
       "4    Monday  Breakfast        Jan           1       10.88   1.68     0.154412"
      ]
     },
     "execution_count": 7,
     "metadata": {},
     "output_type": "execute_result"
    }
   ],
   "source": [
    "rsd_per_tips.head()"
   ]
  },
  {
   "cell_type": "code",
   "execution_count": 8,
   "metadata": {},
   "outputs": [
    {
     "data": {
      "text/plain": [
       "weekday        30\n",
       "meal_type      30\n",
       "wait_staff     30\n",
       "party_size     30\n",
       "meal_total     30\n",
       "tip            30\n",
       "tip_percent    30\n",
       "dtype: int64"
      ]
     },
     "execution_count": 8,
     "metadata": {},
     "output_type": "execute_result"
    }
   ],
   "source": [
    "rsd_per_tips[rsd_per_tips.tip_percent>=0.25].count()"
   ]
  },
  {
   "cell_type": "code",
   "execution_count": 9,
   "metadata": {},
   "outputs": [
    {
     "data": {
      "text/plain": [
       "array(['Marcia', 'Jan', 'Greg', 'Bobby', 'Peter', 'Cindy'], dtype=object)"
      ]
     },
     "execution_count": 9,
     "metadata": {},
     "output_type": "execute_result"
    }
   ],
   "source": [
    "restaurant_sales_data.wait_staff.unique()"
   ]
  },
  {
   "cell_type": "code",
   "execution_count": 10,
   "metadata": {},
   "outputs": [],
   "source": [
    "marcia = restaurant_sales_data[restaurant_sales_data.wait_staff=='Marcia']\n",
    "jan = restaurant_sales_data[restaurant_sales_data.wait_staff=='Jan']\n",
    "greg = restaurant_sales_data[restaurant_sales_data.wait_staff=='Greg']\n",
    "bobby = restaurant_sales_data[restaurant_sales_data.wait_staff=='Bobby']\n",
    "peter = restaurant_sales_data[restaurant_sales_data.wait_staff=='Peter']\n",
    "cindy = restaurant_sales_data[restaurant_sales_data.wait_staff=='Cindy']"
   ]
  },
  {
   "cell_type": "code",
   "execution_count": 11,
   "metadata": {},
   "outputs": [
    {
     "name": "stdout",
     "output_type": "stream",
     "text": [
      "Marcia:\t $1678.07\t Average: $14.98\n",
      "Jan:\t $1253.88\t Average: $16.50\n",
      "Greg:\t $2472.11\t Average: $19.31\n",
      "Bobby:\t $935.88\t Average: $17.33\n",
      "Peter:\t $1427.50\t Average: $16.99\n",
      "Cindy:\t $878.82\t Average: $19.10\n"
     ]
    }
   ],
   "source": [
    "print(f\"Marcia:\\t ${marcia.tip.sum():.2f}\\t Average: ${marcia.tip.mean():.2f}\")\n",
    "print(f\"Jan:\\t ${jan.tip.sum():.2f}\\t Average: ${jan.tip.mean():.2f}\")\n",
    "print(f\"Greg:\\t ${greg.tip.sum():.2f}\\t Average: ${greg.tip.mean():.2f}\")\n",
    "print(f\"Bobby:\\t ${bobby.tip.sum():.2f}\\t Average: ${bobby.tip.mean():.2f}\")\n",
    "print(f\"Peter:\\t ${peter.tip.sum():.2f}\\t Average: ${peter.tip.mean():.2f}\")\n",
    "print(f\"Cindy:\\t ${cindy.tip.sum():.2f}\\t Average: ${cindy.tip.mean():.2f}\")"
   ]
  },
  {
   "cell_type": "code",
   "execution_count": 12,
   "metadata": {},
   "outputs": [
    {
     "data": {
      "text/plain": [
       "weekday    meal_type\n",
       "Friday     Breakfast    0.143763\n",
       "           Dinner       0.150893\n",
       "           Lunch        0.163971\n",
       "Monday     Breakfast    0.170709\n",
       "           Dinner       0.152518\n",
       "           Lunch        0.153258\n",
       "Saturday   Breakfast    0.169334\n",
       "           Dinner       0.151112\n",
       "           Lunch        0.153358\n",
       "Sunday     Breakfast    0.149016\n",
       "           Dinner       0.154644\n",
       "           Lunch        0.145511\n",
       "Thursday   Breakfast    0.156198\n",
       "           Dinner       0.152588\n",
       "Tuesday    Breakfast    0.177104\n",
       "           Dinner       0.148763\n",
       "           Lunch        0.096216\n",
       "Wednesday  Breakfast    0.151722\n",
       "           Dinner       0.174215\n",
       "           Lunch        0.154244\n",
       "Name: tip_percent, dtype: float64"
      ]
     },
     "execution_count": 12,
     "metadata": {},
     "output_type": "execute_result"
    }
   ],
   "source": [
    "rsd_per_tips.groupby(['weekday', 'meal_type']).tip_percent.mean()"
   ]
  },
  {
   "cell_type": "code",
   "execution_count": null,
   "metadata": {},
   "outputs": [],
   "source": []
  }
 ],
 "metadata": {
  "kernelspec": {
   "display_name": "Python 3",
   "language": "python",
   "name": "python3"
  },
  "language_info": {
   "codemirror_mode": {
    "name": "ipython",
    "version": 3
   },
   "file_extension": ".py",
   "mimetype": "text/x-python",
   "name": "python",
   "nbconvert_exporter": "python",
   "pygments_lexer": "ipython3",
   "version": "3.7.6"
  }
 },
 "nbformat": 4,
 "nbformat_minor": 4
}
