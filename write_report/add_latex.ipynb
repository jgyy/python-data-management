{
 "cells": [
  {
   "cell_type": "markdown",
   "metadata": {},
   "source": [
    "Latex Equations Not Inline\n",
    "LaTex formulas that are not inline are denoted with a $$ at the start and end of the formula. Be default the formulas will be centered.\n",
    "\n",
    "Greek characters are denoted by a \\ and the Greek letter. For example \\beta results in $\\beta$.\n",
    "\n",
    "To create a matrix use \\begin{matrix} and end with \\end{matix}."
   ]
  },
  {
   "cell_type": "markdown",
   "metadata": {},
   "source": [
    "$$\n",
    "\\begin{bmatrix}\n",
    "\\alpha& \\beta^{*}\\\\\n",
    "\\gamma^{*}& \\delta\n",
    "\\end{bmatrix}    \n",
    "$$"
   ]
  },
  {
   "cell_type": "markdown",
   "metadata": {},
   "source": [
    "becomes: $$ \\begin{bmatrix} \\alpha& \\beta^{}\\ \\gamma^{}& \\delta \\end{bmatrix}\n",
    "$$\n",
    "\n",
    "Here is one last example demonstrating a summation and a fraction."
   ]
  },
  {
   "cell_type": "markdown",
   "metadata": {},
   "source": [
    "$$\n",
    "\\sum_{i=1}^{n}i=\\frac{n(n+1)}{2}\n",
    "$$"
   ]
  },
  {
   "cell_type": "markdown",
   "metadata": {},
   "source": [
    "Becomes:\n",
    "\n",
    "$$ \\sum_{i=1}^{n}i=\\frac{n(n+1)}{2} $$"
   ]
  },
  {
   "cell_type": "code",
   "execution_count": null,
   "metadata": {},
   "outputs": [],
   "source": []
  }
 ],
 "metadata": {
  "kernelspec": {
   "display_name": "Python 3",
   "language": "python",
   "name": "python3"
  },
  "language_info": {
   "codemirror_mode": {
    "name": "ipython",
    "version": 3
   },
   "file_extension": ".py",
   "mimetype": "text/x-python",
   "name": "python",
   "nbconvert_exporter": "python",
   "pygments_lexer": "ipython3",
   "version": "3.7.6"
  }
 },
 "nbformat": 4,
 "nbformat_minor": 4
}
